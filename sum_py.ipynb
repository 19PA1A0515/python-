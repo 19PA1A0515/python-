{
  "nbformat": 4,
  "nbformat_minor": 0,
  "metadata": {
    "colab": {
      "name": "sum.py",
      "provenance": [],
      "authorship_tag": "ABX9TyPLNw6yThBLtRw+qUsJQyaX",
      "include_colab_link": true
    },
    "kernelspec": {
      "name": "python3",
      "display_name": "Python 3"
    }
  },
  "cells": [
    {
      "cell_type": "markdown",
      "metadata": {
        "id": "view-in-github",
        "colab_type": "text"
      },
      "source": [
        "<a href=\"https://colab.research.google.com/github/19PA1A0515/python-/blob/master/sum_py.ipynb\" target=\"_parent\"><img src=\"https://colab.research.google.com/assets/colab-badge.svg\" alt=\"Open In Colab\"/></a>"
      ]
    },
    {
      "cell_type": "code",
      "metadata": {
        "id": "QYGj8-SrRBka",
        "colab_type": "code",
        "outputId": "ec4ed1b6-e97f-43e4-faf6-f619a34a10b3",
        "colab": {
          "base_uri": "https://localhost:8080/",
          "height": 72
        }
      },
      "source": [
        "a=int(input())\n",
        "b=int(input())\n",
        "print(a+b)"
      ],
      "execution_count": 0,
      "outputs": [
        {
          "output_type": "stream",
          "text": [
            "2\n",
            "3\n",
            "5\n"
          ],
          "name": "stdout"
        }
      ]
    }
  ]
}